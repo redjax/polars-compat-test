{
 "cells": [
  {
   "cell_type": "code",
   "execution_count": 13,
   "metadata": {},
   "outputs": [
    {
     "name": "stdout",
     "output_type": "stream",
     "text": [
      "The autoreload extension is already loaded. To reload it, use:\n",
      "  %reload_ext autoreload\n"
     ]
    }
   ],
   "source": [
    "## Set notebook to auto reload updated modules\n",
    "%load_ext autoreload\n",
    "%autoreload 2"
   ]
  },
  {
   "cell_type": "code",
   "execution_count": 14,
   "metadata": {},
   "outputs": [],
   "source": [
    "from pathlib import Path"
   ]
  },
  {
   "cell_type": "code",
   "execution_count": 15,
   "metadata": {},
   "outputs": [],
   "source": [
    "import polars as pl"
   ]
  },
  {
   "cell_type": "code",
   "execution_count": 16,
   "metadata": {},
   "outputs": [],
   "source": [
    "from pl_test.main import (\n",
    "    load_raw_csvs_to_dfs,\n",
    "    load_csv_to_df,\n",
    "    DATASET_DIR,\n",
    "    DATASET_PQ_DIR,\n",
    "    DATASET_RAW_DIR,\n",
    ")"
   ]
  },
  {
   "cell_type": "code",
   "execution_count": 17,
   "metadata": {},
   "outputs": [],
   "source": [
    "TEST_CSV_FILE: Path = Path(f\"{DATASET_RAW_DIR}/BIP Bee Colony Loss Clean.csv\")"
   ]
  },
  {
   "cell_type": "code",
   "execution_count": 18,
   "metadata": {},
   "outputs": [],
   "source": [
    "df = load_csv_to_df(TEST_CSV_FILE)"
   ]
  },
  {
   "cell_type": "code",
   "execution_count": 19,
   "metadata": {},
   "outputs": [
    {
     "data": {
      "text/plain": [
       "(568, 7)"
      ]
     },
     "execution_count": 19,
     "metadata": {},
     "output_type": "execute_result"
    }
   ],
   "source": [
    "df.shape"
   ]
  },
  {
   "cell_type": "code",
   "execution_count": 20,
   "metadata": {},
   "outputs": [
    {
     "data": {
      "text/html": [
       "<div><style>\n",
       ".dataframe > thead > tr,\n",
       ".dataframe > tbody > tr {\n",
       "  text-align: right;\n",
       "  white-space: pre-wrap;\n",
       "}\n",
       "</style>\n",
       "<small>shape: (5, 7)</small><table border=\"1\" class=\"dataframe\"><thead><tr><th>index</th><th>State</th><th>Total Winter All Loss</th><th>Beekeepers</th><th>Beekeepers Exclusive to State</th><th>Colonies</th><th>Colonies Exclusive to State</th></tr><tr><td>i64</td><td>str</td><td>str</td><td>str</td><td>str</td><td>str</td><td>str</td></tr></thead><tbody><tr><td>0</td><td>&quot;Maryland&quot;</td><td>&quot;7.6%&quot;</td><td>&quot;14&quot;</td><td>&quot;100%&quot;</td><td>&quot;4013&quot;</td><td>&quot;100%&quot;</td></tr><tr><td>1</td><td>&quot;Washington&quot;</td><td>&quot;13.7%&quot;</td><td>&quot;5&quot;</td><td>&quot;0%&quot;</td><td>&quot;21870&quot;</td><td>&quot;0%&quot;</td></tr><tr><td>2</td><td>&quot;New Jersey&quot;</td><td>&quot;15.1%&quot;</td><td>&quot;15&quot;</td><td>&quot;80%&quot;</td><td>&quot;22622&quot;</td><td>&quot;12%&quot;</td></tr><tr><td>3</td><td>&quot;Arkansas&quot;</td><td>&quot;17.4%&quot;</td><td>&quot;20&quot;</td><td>&quot;100%&quot;</td><td>&quot;16955&quot;</td><td>&quot;100%&quot;</td></tr><tr><td>4</td><td>&quot;Maine&quot;</td><td>&quot;18%&quot;</td><td>&quot;6&quot;</td><td>&quot;16.7%&quot;</td><td>&quot;45937&quot;</td><td>&quot;0.1%&quot;</td></tr></tbody></table></div>"
      ],
      "text/plain": [
       "shape: (5, 7)\n",
       "┌───────┬────────────┬──────────────┬────────────┬──────────────┬──────────┬───────────────────────┐\n",
       "│ index ┆ State      ┆ Total Winter ┆ Beekeepers ┆ Beekeepers   ┆ Colonies ┆ Colonies Exclusive to │\n",
       "│ ---   ┆ ---        ┆ All Loss     ┆ ---        ┆ Exclusive to ┆ ---      ┆ State                 │\n",
       "│ i64   ┆ str        ┆ ---          ┆ str        ┆ State        ┆ str      ┆ ---                   │\n",
       "│       ┆            ┆ str          ┆            ┆ ---          ┆          ┆ str                   │\n",
       "│       ┆            ┆              ┆            ┆ str          ┆          ┆                       │\n",
       "╞═══════╪════════════╪══════════════╪════════════╪══════════════╪══════════╪═══════════════════════╡\n",
       "│ 0     ┆ Maryland   ┆ 7.6%         ┆ 14         ┆ 100%         ┆ 4013     ┆ 100%                  │\n",
       "│ 1     ┆ Washington ┆ 13.7%        ┆ 5          ┆ 0%           ┆ 21870    ┆ 0%                    │\n",
       "│ 2     ┆ New Jersey ┆ 15.1%        ┆ 15         ┆ 80%          ┆ 22622    ┆ 12%                   │\n",
       "│ 3     ┆ Arkansas   ┆ 17.4%        ┆ 20         ┆ 100%         ┆ 16955    ┆ 100%                  │\n",
       "│ 4     ┆ Maine      ┆ 18%          ┆ 6          ┆ 16.7%        ┆ 45937    ┆ 0.1%                  │\n",
       "└───────┴────────────┴──────────────┴────────────┴──────────────┴──────────┴───────────────────────┘"
      ]
     },
     "execution_count": 20,
     "metadata": {},
     "output_type": "execute_result"
    }
   ],
   "source": [
    "df.head(5)"
   ]
  },
  {
   "cell_type": "code",
   "execution_count": 21,
   "metadata": {},
   "outputs": [
    {
     "data": {
      "text/plain": [
       "['index',\n",
       " 'State',\n",
       " 'Total Winter All Loss',\n",
       " 'Beekeepers',\n",
       " 'Beekeepers Exclusive to State',\n",
       " 'Colonies',\n",
       " 'Colonies Exclusive to State']"
      ]
     },
     "execution_count": 21,
     "metadata": {},
     "output_type": "execute_result"
    }
   ],
   "source": [
    "df.columns"
   ]
  }
 ],
 "metadata": {
  "kernelspec": {
   "display_name": ".venv",
   "language": "python",
   "name": "python3"
  },
  "language_info": {
   "codemirror_mode": {
    "name": "ipython",
    "version": 3
   },
   "file_extension": ".py",
   "mimetype": "text/x-python",
   "name": "python",
   "nbconvert_exporter": "python",
   "pygments_lexer": "ipython3",
   "version": "3.11.4"
  }
 },
 "nbformat": 4,
 "nbformat_minor": 2
}
